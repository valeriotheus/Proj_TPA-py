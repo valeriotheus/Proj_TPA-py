{
 "cells": [
  {
   "cell_type": "markdown",
   "metadata": {},
   "source": [
    "# Introdução á Árvore Binária"
   ]
  },
  {
   "cell_type": "markdown",
   "metadata": {},
   "source": [
    "> Árvores binárias são essênciais para organização de dados de forma alfabética ou numeral. Através de nós um valor é comparado ao nó inicial. Após verificar se o valor é maior ou menor que o nó ele será reposicionado na memória esqierda (menor) ou a direita (maior) que o nó inicial. Assim possibilita a organização de dados dentro de uma lista como o método .sort(). Após isso ele se torna um nó podendo utilizar o método dentro dele mesmo, chamado de recursividade."
   ]
  },
  {
   "cell_type": "code",
   "execution_count": 3,
   "metadata": {},
   "outputs": [],
   "source": [
    "class No:\n",
    "    def __init__(self, valor):\n",
    "        self.esquerda = None\n",
    "        self.direita = None\n",
    "        self.valor = valor"
   ]
  },
  {
   "cell_type": "markdown",
   "metadata": {},
   "source": [
    "# Inserindo o método inserir"
   ]
  },
  {
   "cell_type": "code",
   "execution_count": 4,
   "metadata": {},
   "outputs": [],
   "source": [
    "def inserir(raiz,chave):\n",
    "    if raiz is None:\n",
    "        return No(chave)\n",
    "    else:\n",
    "        if chave < raiz.valor:\n",
    "            raiz.esquerda = inserir(raiz.esquerda, chave)\n",
    "        else:\n",
    "            raiz.direita = inserir(raiz.direita, chave)\n",
    "    return raiz"
   ]
  },
  {
   "cell_type": "markdown",
   "metadata": {},
   "source": [
    "# Método de ordenação"
   ]
  },
  {
   "cell_type": "code",
   "execution_count": 5,
   "metadata": {},
   "outputs": [],
   "source": [
    "def ordenar(raiz):\n",
    "    if raiz:\n",
    "        ordenar(raiz.esquerda)\n",
    "        print(raiz.valor, end=\" \")\n",
    "        ordenar(raiz.direita)"
   ]
  },
  {
   "cell_type": "markdown",
   "metadata": {},
   "source": [
    "# Método principal"
   ]
  },
  {
   "cell_type": "code",
   "execution_count": 6,
   "metadata": {},
   "outputs": [
    {
     "name": "stdout",
     "output_type": "stream",
     "text": [
      "Em orderm: 0 1 2 7 8 9 10 \n"
     ]
    }
   ],
   "source": [
    "if __name__ == \"__main__\":\n",
    "    raiz = None\n",
    "    valores = [10,7,8,2,1,0,9]\n",
    "\n",
    "    for x in valores:\n",
    "        raiz = inserir(raiz,x)\n",
    "\n",
    "    print(\"Em orderm:\", end=\" \")\n",
    "    ordenar(raiz)\n",
    "    print()"
   ]
  },
  {
   "cell_type": "markdown",
   "metadata": {},
   "source": [
    "# Inserindo valores aleatórios"
   ]
  },
  {
   "cell_type": "code",
   "execution_count": 7,
   "metadata": {},
   "outputs": [
    {
     "name": "stdout",
     "output_type": "stream",
     "text": [
      "1\n"
     ]
    }
   ],
   "source": [
    "import random\n",
    "aleatorio = random.randint(1,10)\n",
    "print(aleatorio)"
   ]
  },
  {
   "cell_type": "code",
   "execution_count": 8,
   "metadata": {},
   "outputs": [
    {
     "name": "stdout",
     "output_type": "stream",
     "text": [
      "75\n",
      "41\n",
      "7\n",
      "96\n",
      "47\n",
      "68\n",
      "63\n",
      "67\n",
      "57\n",
      "46\n"
     ]
    }
   ],
   "source": [
    "import random\n",
    "numeros = random.randint(0,100)\n",
    "for x in range(10):\n",
    "    x = numeros\n",
    "    numeros = random.randint(0,100)\n",
    "    print(numeros)"
   ]
  },
  {
   "cell_type": "markdown",
   "metadata": {},
   "source": [
    "# Exercício 1"
   ]
  },
  {
   "cell_type": "markdown",
   "metadata": {},
   "source": [
    "> Crie um método que insira 10 valores aleatórios de 0 a 100. Após isso organize-os e mostre-os"
   ]
  },
  {
   "cell_type": "code",
   "execution_count": 9,
   "metadata": {},
   "outputs": [
    {
     "name": "stdout",
     "output_type": "stream",
     "text": [
      "Em ordem:  3 7 9 12 31 36 44 58 61 100 "
     ]
    }
   ],
   "source": [
    "import random as y\n",
    "if __name__ == \"__main__\":\n",
    "    raiz = None\n",
    "    lista = []\n",
    "\n",
    "    for x in range(10):\n",
    "        lista.append(y.randint(0,100))\n",
    "\n",
    "    for x in lista:\n",
    "        raiz = inserir(raiz, x)\n",
    "\n",
    "    print(\"Em ordem: \", end=\" \")\n",
    "    ordenar(raiz)"
   ]
  },
  {
   "cell_type": "markdown",
   "metadata": {},
   "source": [
    "# Exercício 2"
   ]
  },
  {
   "cell_type": "markdown",
   "metadata": {},
   "source": [
    "> Crie um método que insira 5 valores aleatórios de 0 a 10. Após isso organize-os de forma decrescente e mostre-os."
   ]
  },
  {
   "cell_type": "code",
   "execution_count": 14,
   "metadata": {},
   "outputs": [],
   "source": [
    "def ordenar2(raiz):\n",
    "    if raiz:\n",
    "        ordenar2(raiz.direita)\n",
    "        print(raiz.valor, end=\" \")\n",
    "        ordenar2(raiz.esquerda)"
   ]
  },
  {
   "cell_type": "code",
   "execution_count": 19,
   "metadata": {},
   "outputs": [
    {
     "name": "stdout",
     "output_type": "stream",
     "text": [
      "Em ordem:  65 54 35 22 9 "
     ]
    }
   ],
   "source": [
    "import random as y\n",
    "if __name__ == \"__main__\":\n",
    "    raiz = None\n",
    "    lista = []\n",
    "\n",
    "    for x in range(5):\n",
    "        lista.append(y.randint(0,100))\n",
    "\n",
    "    for x in lista:\n",
    "        raiz = inserir(raiz, x)\n",
    "\n",
    "    print(\"Em ordem: \", end=\" \")\n",
    "    ordenar2(raiz)"
   ]
  }
 ],
 "metadata": {
  "kernelspec": {
   "display_name": "Python 3",
   "language": "python",
   "name": "python3"
  },
  "language_info": {
   "codemirror_mode": {
    "name": "ipython",
    "version": 3
   },
   "file_extension": ".py",
   "mimetype": "text/x-python",
   "name": "python",
   "nbconvert_exporter": "python",
   "pygments_lexer": "ipython3",
   "version": "3.12.5"
  }
 },
 "nbformat": 4,
 "nbformat_minor": 2
}
