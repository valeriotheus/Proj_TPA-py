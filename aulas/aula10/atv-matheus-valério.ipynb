{
 "cells": [
  {
   "cell_type": "markdown",
   "metadata": {},
   "source": [
    "Class no-"
   ]
  },
  {
   "cell_type": "code",
   "execution_count": 14,
   "metadata": {},
   "outputs": [],
   "source": [
    "class No:\n",
    "    def __init__(self, valor):\n",
    "        self.esquerda = None\n",
    "        self.direita = None\n",
    "        self.valor = valor"
   ]
  },
  {
   "cell_type": "markdown",
   "metadata": {},
   "source": [
    "Inserindo o método inserir-"
   ]
  },
  {
   "cell_type": "code",
   "execution_count": 15,
   "metadata": {},
   "outputs": [],
   "source": [
    "def inserir(raiz,chave):\n",
    "    if raiz is None:\n",
    "        return No(chave)\n",
    "    else:\n",
    "        if chave < raiz.valor:\n",
    "            raiz.esquerda = inserir(raiz.esquerda, chave)\n",
    "        else:\n",
    "            raiz.direita = inserir(raiz.direita, chave)\n",
    "    return raiz"
   ]
  },
  {
   "cell_type": "markdown",
   "metadata": {},
   "source": [
    "Método de ordenação-"
   ]
  },
  {
   "cell_type": "code",
   "execution_count": 16,
   "metadata": {},
   "outputs": [],
   "source": [
    "def ordenar(raiz):\n",
    "    if raiz:\n",
    "        ordenar(raiz.esquerda)\n",
    "        print(raiz.valor, end=\" \")\n",
    "        ordenar(raiz.direita)"
   ]
  },
  {
   "cell_type": "markdown",
   "metadata": {},
   "source": [
    "EXERCÍCIO 1-"
   ]
  },
  {
   "cell_type": "code",
   "execution_count": 17,
   "metadata": {},
   "outputs": [
    {
     "name": "stdout",
     "output_type": "stream",
     "text": [
      "Valores em ordem:  13 18 24 27 29 30 37 42 63 73 "
     ]
    }
   ],
   "source": [
    "import random as y\n",
    "if __name__ == \"__main__\":\n",
    "    raiz = None\n",
    "    lista = []\n",
    "\n",
    "    for x in range(10):\n",
    "        lista.append(y.randint(0,100))\n",
    "\n",
    "    for x in lista:\n",
    "        raiz = inserir(raiz, x)\n",
    "\n",
    "    print(\"Valores em ordem: \", end=\" \")\n",
    "    ordenar(raiz)"
   ]
  },
  {
   "cell_type": "markdown",
   "metadata": {},
   "source": [
    "EXERCÍCIO 2-"
   ]
  },
  {
   "cell_type": "code",
   "execution_count": 18,
   "metadata": {},
   "outputs": [],
   "source": [
    "def ordenar2(raiz):\n",
    "    if raiz:\n",
    "        ordenar2(raiz.direita)\n",
    "        print(raiz.valor, end=\" \")\n",
    "        ordenar2(raiz.esquerda)"
   ]
  },
  {
   "cell_type": "code",
   "execution_count": 19,
   "metadata": {},
   "outputs": [
    {
     "name": "stdout",
     "output_type": "stream",
     "text": [
      "Valores em ordem:  63 61 28 11 7 "
     ]
    }
   ],
   "source": [
    "import random as y\n",
    "if __name__ == \"__main__\":\n",
    "    raiz = None\n",
    "    lista = []\n",
    "\n",
    "    for x in range(5):\n",
    "        lista.append(y.randint(0,100))\n",
    "\n",
    "    for x in lista:\n",
    "        raiz = inserir(raiz, x)\n",
    "\n",
    "    print(\"Valores em ordem: \", end=\" \")\n",
    "    ordenar2(raiz)"
   ]
  }
 ],
 "metadata": {
  "kernelspec": {
   "display_name": "Python 3",
   "language": "python",
   "name": "python3"
  },
  "language_info": {
   "codemirror_mode": {
    "name": "ipython",
    "version": 3
   },
   "file_extension": ".py",
   "mimetype": "text/x-python",
   "name": "python",
   "nbconvert_exporter": "python",
   "pygments_lexer": "ipython3",
   "version": "3.11.9"
  }
 },
 "nbformat": 4,
 "nbformat_minor": 2
}
