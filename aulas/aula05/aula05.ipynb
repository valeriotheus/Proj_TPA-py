{
 "cells": [
  {
   "cell_type": "markdown",
   "metadata": {},
   "source": [
    "# Aula 05 - Introdução ao List Comprehension e Format"
   ]
  },
  {
   "cell_type": "markdown",
   "metadata": {},
   "source": [
    "> Nessa aula aula iremos dar introdução ao list comprehension , uma forma mais simples de realizar conversões de valores entre duas ou mais listas. Atualmente é uma das formas mais rapidas de aplicar conversões, subsituindo as declarações mais extensas do que o metodo convencional, lambda e o map."
   ]
  },
  {
   "cell_type": "markdown",
   "metadata": {},
   "source": [
    "## Exemplo 1 - Conversão de Celsius para Fahrenheit"
   ]
  },
  {
   "cell_type": "code",
   "execution_count": 4,
   "metadata": {},
   "outputs": [
    {
     "name": "stdout",
     "output_type": "stream",
     "text": [
      "[50.0, 68.0, 75.2, 95.0, 122.0]\n"
     ]
    }
   ],
   "source": [
    "celsius = [10,20,24,35,50]\n",
    "fahrenheit = [round(x*1.8+32,2) for x in celsius]\n",
    "print(fahrenheit)"
   ]
  },
  {
   "cell_type": "markdown",
   "metadata": {},
   "source": [
    "## Exemplo 2 - Conversão de Kmh para Mph"
   ]
  },
  {
   "cell_type": "code",
   "execution_count": 5,
   "metadata": {},
   "outputs": [
    {
     "name": "stdout",
     "output_type": "stream",
     "text": [
      "[62.11, 15.53, 43.48, 49.69, 111.8]\n"
     ]
    }
   ],
   "source": [
    "kmh = [100,25,70,80,180]\n",
    "mph = [round(x/1.61,2)for x in kmh]\n",
    "print (mph)"
   ]
  },
  {
   "cell_type": "code",
   "execution_count": 6,
   "metadata": {},
   "outputs": [
    {
     "name": "stdout",
     "output_type": "stream",
     "text": [
      "Kmh   Mph   \n",
      "============\n",
      "100   62.11 \n",
      "25    15.53 \n",
      "70    43.48 \n",
      "80    49.69 \n",
      "180   111.8 \n"
     ]
    }
   ],
   "source": [
    "print(\"{:<6}{:<6}\".format(\"Kmh\",\"Mph\"))\n",
    "print(\"============\")\n",
    "x = 0\n",
    "while(x<len(kmh)):\n",
    " print(\"{:<6}{:<6}\".format(kmh[x],mph[x]))\n",
    " x+=1"
   ]
  },
  {
   "cell_type": "code",
   "execution_count": 7,
   "metadata": {},
   "outputs": [
    {
     "name": "stdout",
     "output_type": "stream",
     "text": [
      "Fahrenheit  Celsius     \n",
      "======================\n",
      "50.0        10          \n",
      "68.0        20          \n",
      "75.2        24          \n",
      "95.0        35          \n",
      "122.0       50          \n"
     ]
    }
   ],
   "source": [
    "print(\"{:<12}{:<12}\".format(\"Fahrenheit\",\"Celsius\"))\n",
    "print(\"======================\")\n",
    "x = 0\n",
    "while(x<len(fahrenheit)):\n",
    " print(\"{:<12}{:<12}\".format(fahrenheit[x],celsius[x]))\n",
    " x+=1"
   ]
  },
  {
   "cell_type": "markdown",
   "metadata": {},
   "source": [
    "## Exercicio 1"
   ]
  },
  {
   "cell_type": "markdown",
   "metadata": {},
   "source": [
    "> Crie uma lista com 10 valores em metros. Crie uma tabela de conversão para polegadas, pés, jardas e mílhas maritimas. Listando o numero da linha e o cabeçalho da tabela"
   ]
  },
  {
   "cell_type": "code",
   "execution_count": 8,
   "metadata": {},
   "outputs": [
    {
     "name": "stdout",
     "output_type": "stream",
     "text": [
      "[393.7, 787.4, 1181.1, 1574.8, 1968.5, 2362.2, 2755.9, 3149.6, 3543.3, 3740.15]\n"
     ]
    }
   ],
   "source": [
    "metros = [10,20,30,40,50,60,70,80,90,95]\n",
    "Polegadas = [round(x*39.37,2)for x in metros]\n",
    "print(Polegadas)"
   ]
  },
  {
   "cell_type": "code",
   "execution_count": 9,
   "metadata": {},
   "outputs": [
    {
     "name": "stdout",
     "output_type": "stream",
     "text": [
      "[18520, 37040, 55560, 74080, 92600, 111120, 129640, 148160, 166680, 175940]\n"
     ]
    }
   ],
   "source": [
    "metros = [10,20,30,40,50,60,70,80,90,95]\n",
    "Milhasm = [round(x*1852,2)for x in metros]\n",
    "print(Milhasm)"
   ]
  },
  {
   "cell_type": "code",
   "execution_count": 10,
   "metadata": {},
   "outputs": [
    {
     "name": "stdout",
     "output_type": "stream",
     "text": [
      "[10.94, 21.88, 32.82, 43.76, 54.7, 65.64, 76.58, 87.52, 98.46, 103.93]\n"
     ]
    }
   ],
   "source": [
    "metros = [10,20,30,40,50,60,70,80,90,95]\n",
    "Jardas = [round(x*1.094,2)for x in metros]\n",
    "print(Jardas)"
   ]
  },
  {
   "cell_type": "code",
   "execution_count": 11,
   "metadata": {},
   "outputs": [
    {
     "name": "stdout",
     "output_type": "stream",
     "text": [
      "[30, 60, 90, 120, 150, 180, 210, 240, 270, 285]\n"
     ]
    }
   ],
   "source": [
    "metros = [10,20,30,40,50,60,70,80,90,95]\n",
    "Pés = [round(x*3,281)for x in metros]\n",
    "print(Pés)"
   ]
  },
  {
   "cell_type": "code",
   "execution_count": 12,
   "metadata": {},
   "outputs": [
    {
     "name": "stdout",
     "output_type": "stream",
     "text": [
      "Metros    Polegadas Pés       Jardas    Milhas Maritimas\n",
      "=======================================================\n",
      "10        393.7     30        10.94     18520     \n",
      "20        787.4     60        21.88     37040     \n",
      "30        1181.1    90        32.82     55560     \n",
      "40        1574.8    120       43.76     74080     \n",
      "50        1968.5    150       54.7      92600     \n",
      "60        2362.2    180       65.64     111120    \n",
      "70        2755.9    210       76.58     129640    \n",
      "80        3149.6    240       87.52     148160    \n",
      "90        3543.3    270       98.46     166680    \n",
      "95        3740.15   285       103.93    175940    \n"
     ]
    }
   ],
   "source": [
    "print(\"{:<10}{:<10}{:<10}{:<10}{:<10}\".format(\"Metros\",\"Polegadas\",\"Pés\",\"Jardas\",\"Milhas Maritimas\"))\n",
    "print(\"=======================================================\")\n",
    "x = 0\n",
    "\n",
    "while(x<len(metros)):\n",
    "    print(\"{:<10}{:<10}{:<10}{:<10}{:<10}\".format(metros[x],Polegadas[x],Pés[x],Jardas[x],Milhasm[x]))\n",
    "    x += 1"
   ]
  },
  {
   "cell_type": "markdown",
   "metadata": {},
   "source": [
    "2-Crie uma lista com 10 valores em Kelvin. Crie uma tabela de conversão para Celsius e Fahrenheit, listando o número da linha e o cabeçalho da tabela."
   ]
  },
  {
   "cell_type": "code",
   "execution_count": 21,
   "metadata": {},
   "outputs": [
    {
     "name": "stdout",
     "output_type": "stream",
     "text": [
      "[-263, -253, -243, -233, -223, -213, -203, -193, -183, -173]\n"
     ]
    }
   ],
   "source": [
    "kelvin = [10,20,30,40,50,60,70,80,90,100]\n",
    "Celsius = [round(x-273,15) for x in kelvin]\n",
    "print(Celsius)"
   ]
  },
  {
   "cell_type": "code",
   "execution_count": 35,
   "metadata": {},
   "outputs": [
    {
     "name": "stdout",
     "output_type": "stream",
     "text": [
      "[-441, -423, -405, -387, -369, -351, -333, -315, -297, -279]\n"
     ]
    }
   ],
   "source": [
    "kelvin = [10,20,30,40,50,60,70,80,90,100]\n",
    "Fahrenheit = [round(1.8*(x-273)+32) for x in kelvin]\n",
    "print(Fahrenheit)"
   ]
  },
  {
   "cell_type": "code",
   "execution_count": 38,
   "metadata": {},
   "outputs": [
    {
     "name": "stdout",
     "output_type": "stream",
     "text": [
      "Kelvin    Celsius   Fahrenheit\n",
      "==================================\n",
      "10        -263      -441      \n",
      "20        -253      -423      \n",
      "30        -243      -405      \n",
      "40        -233      -387      \n",
      "50        -223      -369      \n",
      "60        -213      -351      \n",
      "70        -203      -333      \n",
      "80        -193      -315      \n",
      "90        -183      -297      \n",
      "100       -173      -279      \n"
     ]
    }
   ],
   "source": [
    "print(\"{:<10}{:<10}{:<10}\".format(\"Kelvin\",\"Celsius\",\"Fahrenheit\"))\n",
    "print(\"==================================\")\n",
    "x = 0\n",
    "\n",
    "while(x<len(metros)):\n",
    "    print(\"{:<10}{:<10}{:<10}\".format(kelvin[x],Celsius[x],Fahrenheit[x]))\n",
    "    x += 1"
   ]
  },
  {
   "cell_type": "markdown",
   "metadata": {},
   "source": [
    "3-Crie um uma lista com 10 pesos em quilos. Faça a conversão para o peso na Terra, Lua, Júpiter, Saturno e Mercúrio. Monte uma tabela com o cabeçalho e a numeração conforme os exercícios passados."
   ]
  },
  {
   "cell_type": "code",
   "execution_count": 39,
   "metadata": {},
   "outputs": [
    {
     "name": "stdout",
     "output_type": "stream",
     "text": [
      "[100, 200, 300, 400, 500, 600, 700, 800, 900, 1000]\n"
     ]
    }
   ],
   "source": [
    "quilos = [10,20,30,40,50,60,70,80,90,100]\n",
    "Pterra= [round(x*10) for x in quilos]\n",
    "print(Pterra)"
   ]
  },
  {
   "cell_type": "code",
   "execution_count": 41,
   "metadata": {},
   "outputs": [
    {
     "name": "stdout",
     "output_type": "stream",
     "text": [
      "[16, 32, 48, 64, 80, 96, 112, 128, 144, 160]\n"
     ]
    }
   ],
   "source": [
    "quilos = [10,20,30,40,50,60,70,80,90,100]\n",
    "Plua = [round(x*1.6) for x in quilos]\n",
    "print(Plua)"
   ]
  },
  {
   "cell_type": "code",
   "execution_count": 42,
   "metadata": {},
   "outputs": [
    {
     "name": "stdout",
     "output_type": "stream",
     "text": [
      "[248, 496, 744, 992, 1240, 1488, 1736, 1984, 2232, 2480]\n"
     ]
    }
   ],
   "source": [
    "quilos = [10,20,30,40,50,60,70,80,90,100]\n",
    "Pjupiter = [round(x*24.80) for x in quilos]\n",
    "print(Pjupiter)"
   ]
  },
  {
   "cell_type": "code",
   "execution_count": 44,
   "metadata": {},
   "outputs": [
    {
     "name": "stdout",
     "output_type": "stream",
     "text": [
      "[104, 209, 314, 418, 522, 627, 732, 836, 940, 1045]\n"
     ]
    }
   ],
   "source": [
    "quilos = [10,20,30,40,50,60,70,80,90,100]\n",
    "Psaturno = [round(x*10.45) for x in quilos]\n",
    "print(Psaturno)"
   ]
  },
  {
   "cell_type": "code",
   "execution_count": 45,
   "metadata": {},
   "outputs": [
    {
     "name": "stdout",
     "output_type": "stream",
     "text": [
      "[37, 74, 111, 148, 185, 222, 259, 296, 333, 370]\n"
     ]
    }
   ],
   "source": [
    "quilos = [10,20,30,40,50,60,70,80,90,100]\n",
    "Pmercurio = [round(x*3.7) for x in quilos]\n",
    "print(Pmercurio)"
   ]
  },
  {
   "cell_type": "code",
   "execution_count": 50,
   "metadata": {},
   "outputs": [
    {
     "name": "stdout",
     "output_type": "stream",
     "text": [
      "Peso na Terra     Peso na Lua       Peso em Jupiter   Peso em Saturno   Peso em Mercúrio  \n",
      "===============================================================================================\n",
      "100               16                248               104               37                \n",
      "200               32                496               209               74                \n",
      "300               48                744               314               111               \n",
      "400               64                992               418               148               \n",
      "500               80                1240              522               185               \n",
      "600               96                1488              627               222               \n",
      "700               112               1736              732               259               \n",
      "800               128               1984              836               296               \n",
      "900               144               2232              940               333               \n",
      "1000              160               2480              1045              370               \n"
     ]
    }
   ],
   "source": [
    "print(\"{:<18}{:<18}{:<18}{:<18}{:<18}\".format(\"Peso na Terra\",\"Peso na Lua\",\"Peso em Jupiter\",\"Peso em Saturno\",\"Peso em Mercúrio\"))\n",
    "print(\"===============================================================================================\")\n",
    "x = 0\n",
    "\n",
    "while(x<len(quilos)):\n",
    "    print(\"{:<18}{:<18}{:<18}{:<18}{:<18}\".format(Pterra[x],Plua[x],Pjupiter[x],Psaturno[x],Pmercurio[x]))\n",
    "    x += 1"
   ]
  }
 ],
 "metadata": {
  "kernelspec": {
   "display_name": "Python 3",
   "language": "python",
   "name": "python3"
  },
  "language_info": {
   "codemirror_mode": {
    "name": "ipython",
    "version": 3
   },
   "file_extension": ".py",
   "mimetype": "text/x-python",
   "name": "python",
   "nbconvert_exporter": "python",
   "pygments_lexer": "ipython3",
   "version": "3.11.9"
  }
 },
 "nbformat": 4,
 "nbformat_minor": 2
}
