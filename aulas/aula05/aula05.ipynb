{
 "cells": [
  {
   "cell_type": "markdown",
   "metadata": {},
   "source": [
    "# Aula 05 - Introdução ao List Comprehension e Format"
   ]
  },
  {
   "cell_type": "markdown",
   "metadata": {},
   "source": [
    "> Nessa aula aula iremos dar introdução ao list comprehension , uma forma mais simples de realizar conversões de valores entre duas ou mais listas. Atualmente é uma das formas mais rapidas de aplicar conversões, subsituindo as declarações mais extensas do que o metodo convencional, lambda e o map."
   ]
  },
  {
   "cell_type": "markdown",
   "metadata": {},
   "source": [
    "## Exemplo 1 - Conversão de Celsius para Fahrenheit"
   ]
  },
  {
   "cell_type": "code",
   "execution_count": 1,
   "metadata": {},
   "outputs": [
    {
     "name": "stdout",
     "output_type": "stream",
     "text": [
      "[50.0, 68.0, 75.2, 95.0, 122.0]\n"
     ]
    }
   ],
   "source": [
    "celsius = [10,20,24,35,50]\n",
    "fahrenheit = [round(x*1.8+32,2) for x in celsius]\n",
    "print(fahrenheit)"
   ]
  },
  {
   "cell_type": "markdown",
   "metadata": {},
   "source": [
    "## Exemplo 2 - Conversão de Kmh para Mph"
   ]
  },
  {
   "cell_type": "code",
   "execution_count": 2,
   "metadata": {},
   "outputs": [
    {
     "name": "stdout",
     "output_type": "stream",
     "text": [
      "[62.11, 15.53, 43.48, 49.69, 111.8]\n"
     ]
    }
   ],
   "source": [
    "kmh = [100,25,70,80,180]\n",
    "mph = [round(x/1.61,2)for x in kmh]\n",
    "print (mph)"
   ]
  },
  {
   "cell_type": "code",
   "execution_count": 3,
   "metadata": {},
   "outputs": [
    {
     "name": "stdout",
     "output_type": "stream",
     "text": [
      "Kmh   Mph   \n",
      "============\n",
      "100   62.11 \n",
      "25    15.53 \n",
      "70    43.48 \n",
      "80    49.69 \n",
      "180   111.8 \n"
     ]
    }
   ],
   "source": [
    "print(\"{:<6}{:<6}\".format(\"Kmh\",\"Mph\"))\n",
    "print(\"============\")\n",
    "x = 0\n",
    "while(x<len(kmh)):\n",
    " print(\"{:<6}{:<6}\".format(kmh[x],mph[x]))\n",
    " x+=1"
   ]
  },
  {
   "cell_type": "code",
   "execution_count": 4,
   "metadata": {},
   "outputs": [
    {
     "name": "stdout",
     "output_type": "stream",
     "text": [
      "Fahrenheit  Celsius     \n",
      "======================\n",
      "50.0        10          \n",
      "68.0        20          \n",
      "75.2        24          \n",
      "95.0        35          \n",
      "122.0       50          \n"
     ]
    }
   ],
   "source": [
    "print(\"{:<12}{:<12}\".format(\"Fahrenheit\",\"Celsius\"))\n",
    "print(\"======================\")\n",
    "x = 0\n",
    "while(x<len(fahrenheit)):\n",
    " print(\"{:<12}{:<12}\".format(fahrenheit[x],celsius[x]))\n",
    " x+=1"
   ]
  },
  {
   "cell_type": "markdown",
   "metadata": {},
   "source": [
    "## Exercicio 1"
   ]
  },
  {
   "cell_type": "markdown",
   "metadata": {},
   "source": [
    "> Crie uma lista com 10 valores em metros. Crie uma tabela de conversão para polegadas, pés, jardas e mílhas maritimas. Listando o numero da linha e o cabeçalho da tabela"
   ]
  },
  {
   "cell_type": "code",
   "execution_count": 18,
   "metadata": {},
   "outputs": [
    {
     "name": "stdout",
     "output_type": "stream",
     "text": [
      "metros    Polegadas Pés       Jardas    Milhasm   \n",
      "=======================================================\n"
     ]
    },
    {
     "ename": "IndexError",
     "evalue": "list index out of range",
     "output_type": "error",
     "traceback": [
      "\u001b[1;31m---------------------------------------------------------------------------\u001b[0m",
      "\u001b[1;31mIndexError\u001b[0m                                Traceback (most recent call last)",
      "Cell \u001b[1;32mIn[18], line 13\u001b[0m\n\u001b[0;32m      9\u001b[0m x \u001b[38;5;241m=\u001b[39m \u001b[38;5;241m0\u001b[39m\n\u001b[0;32m     11\u001b[0m \u001b[38;5;28;01mwhile\u001b[39;00m(x\u001b[38;5;241m<\u001b[39m\u001b[38;5;28mlen\u001b[39m(metros)):\n\u001b[1;32m---> 13\u001b[0m  \u001b[38;5;28mprint\u001b[39m(\u001b[38;5;124m\"\u001b[39m\u001b[38;5;132;01m{:<10}\u001b[39;00m\u001b[38;5;132;01m{:<10}\u001b[39;00m\u001b[38;5;132;01m{:<10}\u001b[39;00m\u001b[38;5;132;01m{:<10}\u001b[39;00m\u001b[38;5;132;01m{:<10}\u001b[39;00m\u001b[38;5;124m\"\u001b[39m\u001b[38;5;241m.\u001b[39mformat(metros[x],\u001b[43mPolegadas\u001b[49m\u001b[43m[\u001b[49m\u001b[43mx\u001b[49m\u001b[43m]\u001b[49m,Pés[x],Jardas[x],Milhasm[x],))\n\u001b[0;32m     14\u001b[0m  x\u001b[38;5;241m+\u001b[39m\u001b[38;5;241m=\u001b[39m\u001b[38;5;241m1\u001b[39m\n",
      "\u001b[1;31mIndexError\u001b[0m: list index out of range"
     ]
    }
   ],
   "source": [
    "metros = [10,20,30,40,50,60,70,80,90,95]\n",
    "Polegadas = []\n",
    "Pés = []\n",
    "Jardas = []\n",
    "Milhasm = []\n",
    "\n",
    "print(\"{:<10}{:<10}{:<10}{:<10}{:<10}\".format(\"metros\",\"Polegadas\",\"Pés\",\"Jardas\",\"Milhasm\"))\n",
    "print(\"=======================================================\")\n",
    "x = 0\n",
    "\n",
    "while(x<len(metros)):\n",
    "  \n",
    " print(\"{:<10}{:<10}{:<10}{:<10}{:<10}\".format(metros[x],Polegadas[x],Pés[x],Jardas[x],Milhasm[x],))\n",
    " x+=1"
   ]
  },
  {
   "cell_type": "code",
   "execution_count": 16,
   "metadata": {},
   "outputs": [],
   "source": [
    "metros = [10,20,30,40,50,60,70,80,90,95]\n",
    "Pés = [round(x*3,281)for x in metros]"
   ]
  },
  {
   "cell_type": "code",
   "execution_count": 17,
   "metadata": {},
   "outputs": [
    {
     "name": "stdout",
     "output_type": "stream",
     "text": [
      "[10.94, 21.88, 32.82, 43.76, 54.7, 65.64, 76.58, 87.52, 98.46, 103.93]\n"
     ]
    }
   ],
   "source": [
    "metros = [10,20,30,40,50,60,70,80,90,95]\n",
    "Jardas = [round(x*1.094,2)for x in metros]\n",
    "print(Jardas)"
   ]
  },
  {
   "cell_type": "code",
   "execution_count": 18,
   "metadata": {},
   "outputs": [
    {
     "name": "stdout",
     "output_type": "stream",
     "text": [
      "[18520, 37040, 55560, 74080, 92600, 111120, 129640, 148160, 166680, 175940]\n"
     ]
    }
   ],
   "source": [
    "metros = [10,20,30,40,50,60,70,80,90,95]\n",
    "Milhasm = [round(x*1852,2)for x in metros]\n",
    "print(Milhasm)"
   ]
  },
  {
   "cell_type": "code",
   "execution_count": 19,
   "metadata": {},
   "outputs": [
    {
     "name": "stdout",
     "output_type": "stream",
     "text": [
      "[393.7, 787.4, 1181.1, 1574.8, 1968.5, 2362.2, 2755.9, 3149.6, 3543.3, 3740.15]\n"
     ]
    }
   ],
   "source": [
    "metros = [10,20,30,40,50,60,70,80,90,95]\n",
    "Polegadas = [round(x*39.37,2)for x in metros]\n",
    "print(Polegadas)"
   ]
  }
 ],
 "metadata": {
  "kernelspec": {
   "display_name": "Python 3",
   "language": "python",
   "name": "python3"
  },
  "language_info": {
   "codemirror_mode": {
    "name": "ipython",
    "version": 3
   },
   "file_extension": ".py",
   "mimetype": "text/x-python",
   "name": "python",
   "nbconvert_exporter": "python",
   "pygments_lexer": "ipython3",
   "version": "3.12.2"
  }
 },
 "nbformat": 4,
 "nbformat_minor": 2
}
