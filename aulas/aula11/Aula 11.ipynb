{
 "cells": [
  {
   "cell_type": "markdown",
   "metadata": {},
   "source": [
    "## Estudo de Caso Supermercado"
   ]
  },
  {
   "cell_type": "markdown",
   "metadata": {},
   "source": [
    ">Seguindo as aulas de estrutura de dados, crie um algoritmo para seguinte ocasião: Um supermercado possui três caixas. O primeiro é o caixa rápido, até 20 unidades, o segundo é para idosos com no mínimo 60 anos e o ultimo é para os demais clientes. Utilizando a estruturas já realizadas em sala crie um algoritmo que no seu método deverá possuir as entradas: nome, idade, e unidades. Insira 10 pessoas a essas filas deixando para o algoritmo definir qual fila do caixa deverá seguir."
   ]
  },
  {
   "cell_type": "code",
   "execution_count": 25,
   "metadata": {},
   "outputs": [
    {
     "name": "stdout",
     "output_type": "stream",
     "text": [
      "Gustavo adicionado(a) a fila normal\n",
      "Hernesto adicionado(a) a fila de idosos\n",
      "Caique adicionado(a) a fila normal\n",
      "Holanda adicionado(a) a fila de idosos\n",
      "Ricardo adicionado(a) a fila rapida\n",
      "Miranda adicionado(a) a fila rapida\n",
      "Gilson adicionado(a) a fila normal\n",
      "Paulo adicionado(a) a fila normal\n",
      "Milton adicionado(a) a fila de idosos\n",
      "Carlos adicionado(a) a fila rapida\n",
      "Fernanda adicionado(a) a fila rapida\n",
      "Fila Normal: 4 pessoas\n",
      "Fila Rapida: 4 pessoas\n",
      "Fila Preferencial: 3 pessoas\n",
      "Fila Preferencial: Hernesto foi atendido(a)\n",
      "Fila Rapida: Ricardo foi atendido(a)\n",
      "Fila Rapida: Miranda foi atendido(a)\n",
      "Fila Normal: Gustavo foi atendido(a)\n",
      "Fila Normal: Caique foi atendido(a)\n"
     ]
    }
   ],
   "source": [
    "from collections import deque\n",
    "\n",
    "class Mercado:\n",
    "    def __init__(self):\n",
    "        self.mercado = deque()\n",
    "\n",
    "    def aguardar(self,nome):\n",
    "        self.mercado.append(nome)\n",
    "    \n",
    "    def vazio(self):\n",
    "        return len(self.mercado) == 0\n",
    "    \n",
    "    def atender(self):\n",
    "        if not self.vazio():\n",
    "            nome = self.mercado.popleft()\n",
    "            return nome+\" foi atendido(a)\"\n",
    "        else:\n",
    "            return \"O(A) atendente está livre\"\n",
    "    def tamanho(self):\n",
    "        if len(self.mercado)==0:\n",
    "            return \"A fila está vazia\"\n",
    "        else:\n",
    "            return str(len(self.mercado))+\" pessoas\"\n",
    "\n",
    "if __name__ == \"__main__\":\n",
    "    caixa1 = Mercado()\n",
    "    caixa2 = Mercado()\n",
    "    caixa3 = Mercado()\n",
    "\n",
    "    def fila(pessoa, idade, qtd):\n",
    "        if(idade>=60):\n",
    "            caixa3.aguardar(pessoa)\n",
    "            print(f'{pessoa} adicionado(a) a fila de idosos')\n",
    "        elif(qtd<=20):\n",
    "            caixa2.aguardar(pessoa)\n",
    "            print(f'{pessoa} adicionado(a) a fila rapida')\n",
    "        else:\n",
    "            caixa1.aguardar(pessoa)\n",
    "            print(f'{pessoa} adicionado(a) a fila normal')\n",
    "\n",
    "    def atender(fila):\n",
    "        if(fila==1):\n",
    "            print(f'Fila Normal: {caixa1.atender()}')\n",
    "        elif(fila==2):\n",
    "            print(f'Fila Rapida: {caixa2.atender()}')\n",
    "        elif(fila==3):\n",
    "            print(f'Fila Preferencial: {caixa3.atender()}')\n",
    "        else: \n",
    "            print(\"Fila inexistente\")\n",
    "    \n",
    "    def tamanho(fila):\n",
    "        if(fila==1):\n",
    "            print(f'Fila Normal: {caixa1.tamanho()}')\n",
    "        elif(fila==2):\n",
    "            print(f'Fila Rapida: {caixa2.tamanho()}')\n",
    "        elif(fila==3):\n",
    "            print(f'Fila Preferencial: {caixa3.tamanho()}')\n",
    "        else: \n",
    "            print(\"Fila inexistente\")\n",
    "\n",
    "    fila(\"Gustavo\",30,21)\n",
    "    fila(\"Hernesto\",70,25)\n",
    "    fila(\"Caique\",30,21)\n",
    "    fila(\"Holanda\",65,25)\n",
    "    fila(\"Ricardo\",30,19)\n",
    "    fila(\"Miranda\",20,10)\n",
    "    fila(\"Gilson\",30,21)\n",
    "    fila(\"Paulo\",19,25)\n",
    "    fila(\"Milton\",80,100)\n",
    "    fila(\"Carlos\",45,18)\n",
    "    fila(\"Fernanda\",20,7)\n",
    "\n",
    "    tamanho(1)\n",
    "    tamanho(2)\n",
    "    tamanho(3)\n",
    "\n",
    "    atender(3)\n",
    "    atender(2)\n",
    "    atender(2)\n",
    "    atender(1)\n",
    "    atender(1)\n",
    "    \n",
    "\n",
    "    "
   ]
  },
  {
   "cell_type": "code",
   "execution_count": null,
   "metadata": {},
   "outputs": [],
   "source": []
  }
 ],
 "metadata": {
  "kernelspec": {
   "display_name": "Python 3",
   "language": "python",
   "name": "python3"
  },
  "language_info": {
   "codemirror_mode": {
    "name": "ipython",
    "version": 3
   },
   "file_extension": ".py",
   "mimetype": "text/x-python",
   "name": "python",
   "nbconvert_exporter": "python",
   "pygments_lexer": "ipython3",
   "version": "3.12.0"
  }
 },
 "nbformat": 4,
 "nbformat_minor": 2
}
