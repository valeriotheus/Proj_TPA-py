{
 "cells": [
  {
   "cell_type": "markdown",
   "metadata": {},
   "source": [
    "# Introdução a Tuplas e Dicionários"
   ]
  },
  {
   "cell_type": "code",
   "execution_count": 94,
   "metadata": {},
   "outputs": [
    {
     "name": "stdout",
     "output_type": "stream",
     "text": [
      "[2, 5, 9]\n"
     ]
    }
   ],
   "source": [
    "lista = [2,5,9]\n",
    "lista[1]\n",
    "print(lista)"
   ]
  },
  {
   "cell_type": "markdown",
   "metadata": {},
   "source": [
    "# Introdução a Tuplas"
   ]
  },
  {
   "cell_type": "markdown",
   "metadata": {},
   "source": [
    ">Tuplas não são mutaveis, não se modificam, ou seja se você alterar o valor de uma tupla o valor antigo será esquecido"
   ]
  },
  {
   "cell_type": "code",
   "execution_count": 95,
   "metadata": {},
   "outputs": [
    {
     "data": {
      "text/plain": [
       "8"
      ]
     },
     "execution_count": 95,
     "metadata": {},
     "output_type": "execute_result"
    }
   ],
   "source": [
    "tupla = (6,8,9)\n",
    "tupla[1]"
   ]
  },
  {
   "cell_type": "code",
   "execution_count": 96,
   "metadata": {},
   "outputs": [
    {
     "name": "stdout",
     "output_type": "stream",
     "text": [
      "[2, 5, 9, 7]\n"
     ]
    }
   ],
   "source": [
    "lista.append(7)\n",
    "print(lista)"
   ]
  },
  {
   "cell_type": "markdown",
   "metadata": {},
   "source": [
    "# Introdução a Dicionários"
   ]
  },
  {
   "cell_type": "code",
   "execution_count": 97,
   "metadata": {},
   "outputs": [],
   "source": [
    "dicionario = {\n",
    " 'curso':'desenvolvimento de sistemas',\n",
    " 'ano':2024,\n",
    " 'modulo': 'Tecnicas de programação e algoritmos',\n",
    " 'professor':'Gustavo'\n",
    "}"
   ]
  },
  {
   "cell_type": "code",
   "execution_count": 98,
   "metadata": {},
   "outputs": [
    {
     "name": "stdout",
     "output_type": "stream",
     "text": [
      "desenvolvimento de sistemas\n",
      "2024\n",
      "Tecnicas de programação e algoritmos\n",
      "Gustavo\n"
     ]
    }
   ],
   "source": [
    "print(dicionario['curso'])\n",
    "print(dicionario['ano'])\n",
    "print(dicionario['modulo'])\n",
    "print(dicionario['professor'])"
   ]
  },
  {
   "cell_type": "code",
   "execution_count": 99,
   "metadata": {},
   "outputs": [
    {
     "name": "stdout",
     "output_type": "stream",
     "text": [
      "9.5\n"
     ]
    }
   ],
   "source": [
    "dicionario['nota'] = 9.5\n",
    "print(dicionario['nota'])"
   ]
  },
  {
   "cell_type": "code",
   "execution_count": 100,
   "metadata": {},
   "outputs": [
    {
     "name": "stdout",
     "output_type": "stream",
     "text": [
      "{'curso': 'desenvolvimento de sistemas', 'ano': 2024, 'modulo': 'Tecnicas de programação e algoritmos', 'professor': 'Gustavo', 'nota': 9.5}\n"
     ]
    }
   ],
   "source": [
    "print(dicionario)"
   ]
  },
  {
   "cell_type": "code",
   "execution_count": 101,
   "metadata": {},
   "outputs": [
    {
     "name": "stdout",
     "output_type": "stream",
     "text": [
      "curso\n",
      "ano\n",
      "modulo\n",
      "professor\n",
      "nota\n"
     ]
    }
   ],
   "source": [
    "for x in dicionario.keys():\n",
    " print(x)"
   ]
  },
  {
   "cell_type": "code",
   "execution_count": 102,
   "metadata": {},
   "outputs": [
    {
     "name": "stdout",
     "output_type": "stream",
     "text": [
      "dict_keys(['curso', 'ano', 'modulo', 'professor', 'nota'])\n",
      "dict_values(['desenvolvimento de sistemas', 2024, 'Tecnicas de programação e algoritmos', 'Gustavo', 9.5])\n"
     ]
    }
   ],
   "source": [
    "print(dicionario.keys())\n",
    "print(dicionario.values())"
   ]
  },
  {
   "cell_type": "code",
   "execution_count": 103,
   "metadata": {},
   "outputs": [
    {
     "name": "stdout",
     "output_type": "stream",
     "text": [
      "{}\n"
     ]
    }
   ],
   "source": [
    "dicionario.clear()\n",
    "print(dicionario)"
   ]
  },
  {
   "cell_type": "markdown",
   "metadata": {},
   "source": [
    "# Exercicio 1"
   ]
  },
  {
   "cell_type": "markdown",
   "metadata": {},
   "source": [
    "> Crie 3 dicionarios: Matricula, Aluno e diciplina.\n",
    ">> * A matricula terá código da matricula, data da inscrição e curso; \n",
    ">> * Aluno terá registro e nome; \n",
    ">> * A diciplina terá registro e professor; \n",
    "\n",
    ">Ao final adicione os três dicionários em uma tupla chamada escola "
   ]
  },
  {
   "cell_type": "code",
   "execution_count": 120,
   "metadata": {},
   "outputs": [],
   "source": [
    "matricula = {\n",
    " 'matricula':123456,\n",
    " 'datainsc':2024,\n",
    " 'curso': 'Desenvolvimento de Sistemas',\n",
    "}"
   ]
  },
  {
   "cell_type": "code",
   "execution_count": 121,
   "metadata": {},
   "outputs": [],
   "source": [
    "aluno = {\n",
    " 'aluno':'Matheus',\n",
    " 'registro': 123456,\n",
    " 'curso': 'Desenvolvimento de Sistemas',\n",
    "}"
   ]
  },
  {
   "cell_type": "code",
   "execution_count": 122,
   "metadata": {},
   "outputs": [],
   "source": [
    "diciplina = {\n",
    " 'diciplina':'Matematica',\n",
    " 'registro': 'aula01',\n",
    " 'professor': 'gustavo',\n",
    "}"
   ]
  },
  {
   "cell_type": "code",
   "execution_count": 124,
   "metadata": {},
   "outputs": [
    {
     "name": "stdout",
     "output_type": "stream",
     "text": [
      "({'matricula': 123456, 'datainsc': 2024, 'curso': 'Desenvolvimento de Sistemas'}, {'aluno': 'Matheus', 'registro': 123456, 'curso': 'Desenvolvimento de Sistemas'}, {'diciplina': 'Matematica', 'registro': 'aula01', 'professor': 'gustavo'})\n"
     ]
    }
   ],
   "source": [
    "escola = (matricula,aluno,diciplina)\n",
    "print(escola)"
   ]
  },
  {
   "cell_type": "code",
   "execution_count": 125,
   "metadata": {},
   "outputs": [
    {
     "name": "stdout",
     "output_type": "stream",
     "text": [
      "{'matricula': 123456, 'datainsc': 2024, 'curso': 'Desenvolvimento de Sistemas'}\n",
      "{'aluno': 'Matheus', 'registro': 123456, 'curso': 'Desenvolvimento de Sistemas'}\n",
      "{'diciplina': 'Matematica', 'registro': 'aula01', 'professor': 'gustavo'}\n"
     ]
    }
   ],
   "source": [
    "for x in escola:\n",
    " print(x)"
   ]
  },
  {
   "cell_type": "code",
   "execution_count": 129,
   "metadata": {},
   "outputs": [
    {
     "name": "stdout",
     "output_type": "stream",
     "text": [
      "dict_values([123456, 2024, 'Desenvolvimento de Sistemas'])\n",
      "dict_values(['Matheus', 123456, 'Desenvolvimento de Sistemas'])\n",
      "dict_values(['Matematica', 'aula01', 'gustavo'])\n"
     ]
    }
   ],
   "source": [
    "for x in escola:\n",
    " print(x.values())"
   ]
  },
  {
   "cell_type": "markdown",
   "metadata": {},
   "source": [
    "# Exercicio 2"
   ]
  },
  {
   "cell_type": "markdown",
   "metadata": {},
   "source": [
    "> Crie três dicionarios para as seguintes tabelas: vendedor, produto e venda. O vendedor terá registro, nome e admissão; o produto terá o ID,nome e fabricante; a venda terá reg_vendedor,id_produto e valor. Após a criação  dos dicionarios, adicionem a uma tupla chamada casas_baiano."
   ]
  },
  {
   "cell_type": "code",
   "execution_count": 130,
   "metadata": {},
   "outputs": [],
   "source": [
    "vendedor = {\n",
    " 'vendedor':'Gustavo',\n",
    " 'registro':123568,\n",
    " 'admissão': 2024,\n",
    "}"
   ]
  },
  {
   "cell_type": "code",
   "execution_count": 131,
   "metadata": {},
   "outputs": [],
   "source": [
    "produto = {\n",
    " 'produto':'Nokia Tijolão',\n",
    " 'ID': 2024023,\n",
    " 'fabricante': 'Nokia',\n",
    "}"
   ]
  },
  {
   "cell_type": "code",
   "execution_count": 132,
   "metadata": {},
   "outputs": [],
   "source": [
    "venda = {\n",
    " 'valor': 220,\n",
    " 'reg_vendedor': 123568,\n",
    " 'ID_produto': 2024023,\n",
    "}"
   ]
  },
  {
   "cell_type": "code",
   "execution_count": 135,
   "metadata": {},
   "outputs": [
    {
     "name": "stdout",
     "output_type": "stream",
     "text": [
      "{'vendedor': 'Gustavo', 'registro': 123568, 'admissão': 2024}\n",
      "{'produto': 'Telefone Nokia', 'ID': 2024023, 'fabricante': 'Nokia'}\n",
      "{'valor': 220, 'reg_vendedor': 123568, 'ID_produto': 2024023}\n"
     ]
    }
   ],
   "source": [
    "casas_baiano = (vendedor,produto,venda)\n",
    "for x in casas_baiano:\n",
    " print(x)"
   ]
  }
 ],
 "metadata": {
  "kernelspec": {
   "display_name": "Python 3",
   "language": "python",
   "name": "python3"
  },
  "language_info": {
   "codemirror_mode": {
    "name": "ipython",
    "version": 3
   },
   "file_extension": ".py",
   "mimetype": "text/x-python",
   "name": "python",
   "nbconvert_exporter": "python",
   "pygments_lexer": "ipython3",
   "version": "3.12.2"
  }
 },
 "nbformat": 4,
 "nbformat_minor": 2
}
