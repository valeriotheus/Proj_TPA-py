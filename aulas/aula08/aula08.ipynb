{
 "cells": [
  {
   "cell_type": "markdown",
   "metadata": {},
   "source": [
    "# Aula08 - Introdução a estrutura de dados "
   ]
  },
  {
   "cell_type": "markdown",
   "metadata": {},
   "source": [
    "## Fila(FIFO)"
   ]
  },
  {
   "cell_type": "code",
   "execution_count": 21,
   "metadata": {},
   "outputs": [],
   "source": [
    "class Fila:\n",
    " def __init__(self):\n",
    "  self.fila = []\n",
    "\n",
    " def enfileirar(self, item):\n",
    "   self.fila.append(item)\n",
    "   print(f\"{item} chegou no caixa\")\n",
    "\n",
    " def vazio(self):\n",
    "  return len(self.fila) == 0\n",
    "   \n",
    " def desinfileirar(self):\n",
    "  if not self.vazio():\n",
    "   item=self.fila.pop(0)\n",
    "   print(f\"{item} foi atendido no caixa\")\n",
    "   return item\n",
    "  else:\n",
    "   print(\"O caixa está livre\")\n",
    "   return None\n",
    "    \n",
    " def tamanho(self):\n",
    "  if len(self.fila)==0:\n",
    "   print(\"O caixa está livre\")\n",
    "  else:\n",
    "   print(f\"Tem {len(self.fila)} pessoas na fila\")\n"
   ]
  },
  {
   "cell_type": "markdown",
   "metadata": {},
   "source": [
    "### Atividade 1\n"
   ]
  },
  {
   "cell_type": "markdown",
   "metadata": {},
   "source": [
    "> Joãozinho está no mercado entre Vó Maria e Caique que chegou logo atrás para ir no caixa. Tendo  como fila a estrutura de dados, adcione aos três a essa fila nessa ordem e atenda a Vó Maria, e depois mostre o tamanho da fila."
   ]
  },
  {
   "cell_type": "code",
   "execution_count": 30,
   "metadata": {},
   "outputs": [
    {
     "name": "stdout",
     "output_type": "stream",
     "text": [
      "Vó Maria chegou no caixa\n",
      "Caique chegou no caixa\n",
      "Joãozinho chegou no caixa\n",
      "Vó Maria foi atendido no caixa\n",
      "Tem 2 pessoas na fila\n"
     ]
    }
   ],
   "source": [
    "fila = Fila()\n",
    "fila.enfileirar('Vó Maria')\n",
    "fila.enfileirar('Caique')\n",
    "fila.enfileirar('Joãozinho')\n",
    "fila.desinfileirar()\n",
    "fila.tamanho()\n"
   ]
  },
  {
   "cell_type": "code",
   "execution_count": 23,
   "metadata": {},
   "outputs": [
    {
     "name": "stdout",
     "output_type": "stream",
     "text": [
      "Caique foi atendido no caixa\n",
      "Joãozinho foi atendido no caixa\n",
      "O caixa está livre\n"
     ]
    }
   ],
   "source": [
    "fila.desinfileirar()\n",
    "fila.desinfileirar()\n",
    "fila.tamanho()"
   ]
  },
  {
   "cell_type": "markdown",
   "metadata": {},
   "source": [
    "## FIFO utilizando Collections deque"
   ]
  },
  {
   "cell_type": "code",
   "execution_count": 27,
   "metadata": {},
   "outputs": [],
   "source": [
    "from collections import deque\n",
    "\n",
    "class Farmacia:\n",
    "    def __init__(self):\n",
    "        self.farmacia = deque()\n",
    "\n",
    "    def aguardar(self,nome):\n",
    "        self.farmacia.append(nome)\n",
    "        print(f\"{nome} está na fila\")\n",
    "\n",
    "    def vazio(self):\n",
    "        return len(self.farmacia) ==0\n",
    "    \n",
    "    def atender(self):\n",
    "        if not self.vazio():\n",
    "            nome = self.farmacia.popleft()\n",
    "            print(f\"{nome} foi atendido(a)\")\n",
    "        else:\n",
    "            print(\"O atendente está livre\")\n",
    "       \n",
    "    def tamanho(self):\n",
    "        if len(self.farmacia)==0:\n",
    "            print(\"A fila está vazia\")\n",
    "        else:\n",
    "            print(f\"Tem {len(self.farmacia)} pessoas na fila\")"
   ]
  },
  {
   "cell_type": "markdown",
   "metadata": {},
   "source": [
    "### Atividade 2 - Atendimento da Farmacia"
   ]
  },
  {
   "cell_type": "markdown",
   "metadata": {},
   "source": [
    ">Ao abrir a farmacia pela manhã, a balconista recebe 5 pessoas. 3 delas são atendidas e vão ao caixa. As demais estão aguardando para serem atendidas. Inclua o nome das 5 pessoas, atenda as 3 e depois mostre o tamanho da fila."
   ]
  },
  {
   "cell_type": "code",
   "execution_count": 28,
   "metadata": {},
   "outputs": [
    {
     "name": "stdout",
     "output_type": "stream",
     "text": [
      "maria está na fila\n",
      "josé está na fila\n",
      "joana está na fila\n",
      "lisa está na fila\n",
      "rodrigo está na fila\n",
      "--------------------------\n",
      "maria foi atendido(a)\n",
      "josé foi atendido(a)\n",
      "joana foi atendido(a)\n",
      "Tem 2 pessoas na fila\n"
     ]
    }
   ],
   "source": [
    "farmacia = Farmacia()\n",
    "farmacia.aguardar('maria')\n",
    "farmacia.aguardar('josé')\n",
    "farmacia.aguardar('joana')\n",
    "farmacia.aguardar('lisa')\n",
    "farmacia.aguardar('rodrigo')\n",
    "print(\"--------------------------\")\n",
    "farmacia.atender()\n",
    "farmacia.atender()\n",
    "farmacia.atender()\n",
    "farmacia.tamanho()"
   ]
  },
  {
   "cell_type": "markdown",
   "metadata": {},
   "source": [
    "## Pilha(LIFO)"
   ]
  },
  {
   "cell_type": "code",
   "execution_count": 37,
   "metadata": {},
   "outputs": [],
   "source": [
    "class Editor:\n",
    " def __init__(self):\n",
    "     self.texto = \"\"\n",
    "     self.historico = []\n",
    " \n",
    " def escrever (self, texto):\n",
    "    self.historico.append(self.texto)\n",
    "    self.texto += texto\n",
    "\n",
    " def desfazer(self):\n",
    "    if self.historico:\n",
    "       self.texto = self.historico.pop()\n",
    "    else:\n",
    "       self.texto = \"\"\n",
    "\n",
    " def visualizar(self):\n",
    "    print(self.texto)   "
   ]
  },
  {
   "cell_type": "markdown",
   "metadata": {},
   "source": [
    "### Atividade 3"
   ]
  },
  {
   "cell_type": "markdown",
   "metadata": {},
   "source": [
    "> Em um editor Yago escreve primeiro \"Olá\", depois \"Mundo!\" e por ultimo \"Por:\" e \"Yago\"; Depois disso ele exibiu o texto editado. Logo após decidiu remover \"Por: Yago\". faça um algoritmo que realize o passo a passo de Yago."
   ]
  },
  {
   "cell_type": "code",
   "execution_count": 58,
   "metadata": {},
   "outputs": [
    {
     "name": "stdout",
     "output_type": "stream",
     "text": [
      "Olá\n",
      "OláMundo!\n",
      "OláMundo!Por:\n",
      "OláMundo!Por:Yago\n",
      "OláMundo!\n"
     ]
    }
   ],
   "source": [
    "editor = Editor()\n",
    "editor.escrever('Olá')\n",
    "editor.visualizar()\n",
    "editor.escrever('Mundo!')\n",
    "editor.visualizar()\n",
    "editor.escrever('Por:')\n",
    "editor.visualizar()\n",
    "editor.escrever('Yago')\n",
    "editor.visualizar()\n",
    "editor.desfazer()\n",
    "editor.desfazer()\n",
    "editor.visualizar()"
   ]
  }
 ],
 "metadata": {
  "kernelspec": {
   "display_name": "Python 3",
   "language": "python",
   "name": "python3"
  },
  "language_info": {
   "codemirror_mode": {
    "name": "ipython",
    "version": 3
   },
   "file_extension": ".py",
   "mimetype": "text/x-python",
   "name": "python",
   "nbconvert_exporter": "python",
   "pygments_lexer": "ipython3",
   "version": "3.12.2"
  }
 },
 "nbformat": 4,
 "nbformat_minor": 2
}
