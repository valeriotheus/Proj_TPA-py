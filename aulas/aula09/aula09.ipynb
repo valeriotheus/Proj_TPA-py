{
 "cells": [
  {
   "cell_type": "markdown",
   "metadata": {},
   "source": [
    "# Introdução a tabelas Hash"
   ]
  },
  {
   "cell_type": "markdown",
   "metadata": {},
   "source": [
    "> As Tabelas Hash são estruturas de dados comuns para a localização de grandes quantidades de dados. Devido sua eficiencia na busca, inserção e remoção de elementos que utiliza a indexação dos dados como dicionarios já visto em aula."
   ]
  },
  {
   "cell_type": "markdown",
   "metadata": {},
   "source": [
    "Aplicações:\n",
    "1. Banco de dados\n",
    "2. Cache de memória\n",
    "3. Compiladores \n",
    "4. Algoritmos de busca \n",
    "5. Big Data"
   ]
  },
  {
   "cell_type": "code",
   "execution_count": 22,
   "metadata": {},
   "outputs": [
    {
     "ename": "AttributeError",
     "evalue": "'HashTable' object has no attribute 'get'",
     "output_type": "error",
     "traceback": [
      "\u001b[1;31m---------------------------------------------------------------------------\u001b[0m",
      "\u001b[1;31mAttributeError\u001b[0m                            Traceback (most recent call last)",
      "Cell \u001b[1;32mIn[22], line 41\u001b[0m\n\u001b[0;32m     38\u001b[0m biblioteca\u001b[38;5;241m.\u001b[39minsert(\u001b[38;5;124m\"\u001b[39m\u001b[38;5;124mM\u001b[39m\u001b[38;5;124m\"\u001b[39m, \u001b[38;5;124m\"\u001b[39m\u001b[38;5;124mMarcelino Pão e Vinho\u001b[39m\u001b[38;5;124m\"\u001b[39m)\n\u001b[0;32m     39\u001b[0m biblioteca\u001b[38;5;241m.\u001b[39minsert(\u001b[38;5;124m\"\u001b[39m\u001b[38;5;124mO\u001b[39m\u001b[38;5;124m\"\u001b[39m, \u001b[38;5;124m\"\u001b[39m\u001b[38;5;124mO Codigo Da Vinci\u001b[39m\u001b[38;5;124m\"\u001b[39m)\n\u001b[1;32m---> 41\u001b[0m \u001b[38;5;28mprint\u001b[39m(\u001b[43mbiblioteca\u001b[49m\u001b[38;5;241;43m.\u001b[39;49m\u001b[43mget\u001b[49m(\u001b[38;5;124m\"\u001b[39m\u001b[38;5;124mA\u001b[39m\u001b[38;5;124m\"\u001b[39m))\n\u001b[0;32m     42\u001b[0m \u001b[38;5;28mprint\u001b[39m(biblioteca\u001b[38;5;241m.\u001b[39mget(\u001b[38;5;124m\"\u001b[39m\u001b[38;5;124mB\u001b[39m\u001b[38;5;124m\"\u001b[39m))\n\u001b[0;32m     44\u001b[0m biblioteca\u001b[38;5;241m.\u001b[39mremove(\u001b[38;5;124m\"\u001b[39m\u001b[38;5;124mA\u001b[39m\u001b[38;5;124m\"\u001b[39m)   \n",
      "\u001b[1;31mAttributeError\u001b[0m: 'HashTable' object has no attribute 'get'"
     ]
    }
   ],
   "source": [
    "class HashTable:\n",
    " def __init__(self, size = 10):\n",
    "  self.size = size;\n",
    "  self.table = [[] for _ in range(self.size)]\n",
    "\n",
    " # Método que calcula o indice da tabela através da chave\n",
    " def hash(self,key):\n",
    "  return hash (key) % self.size\n",
    " \n",
    " def insert(self, key, value):\n",
    "  index = self.hash(key)\n",
    "  for y in self.table[index]: \n",
    "   if y[0] == key:\n",
    "    y[1] = value \n",
    "    return\n",
    "   self.table[index].append([key, value])\n",
    "\n",
    " def remove(self,key):\n",
    "  index = self.hash(key)\n",
    "  for i, y in enumerate(self.table[index]):\n",
    "    if y[0] == key:\n",
    "     del self.table[index]\n",
    "     return True\n",
    "    return False\n",
    "   \n",
    "   #Metodo de busca de valor através da chave\n",
    "\n",
    "    def get(self,key):\n",
    "     index = self.hash(key)\n",
    "    for y in self.table[index]:\n",
    "     if y[0]==key:\n",
    "      return y[1]\n",
    "    return None\n",
    "     \n",
    "if __name__ == \"__main__\":\n",
    " biblioteca= HashTable()\n",
    " biblioteca.insert(\"A\", \"Alice no Pais Das Maravilhas\")\n",
    " biblioteca.insert(\"M\", \"Marcelino Pão e Vinho\")\n",
    " biblioteca.insert(\"O\", \"O Codigo Da Vinci\")\n",
    "\n",
    " print(biblioteca.get(\"A\"))\n",
    " print(biblioteca.get(\"B\"))\n",
    "\n",
    " biblioteca.remove(\"A\")   \n",
    " print(biblioteca.get(\"A\"))  "
   ]
  },
  {
   "cell_type": "markdown",
   "metadata": {},
   "source": [
    "## Exercicios:\n"
   ]
  },
  {
   "cell_type": "markdown",
   "metadata": {},
   "source": [
    "> Crie uma prateleira de mercado onde será organizado os produtos por numeração e o nome onde:"
   ]
  },
  {
   "cell_type": "markdown",
   "metadata": {},
   "source": [
    "0. frios\n",
    "1. limpeza\n",
    "2. Vegetais\n",
    "4. Cereais\n",
    "5. Padaria\n",
    "6. Laticíneos\n",
    "7. Açougue\n",
    "8. Hortaliças\n",
    "9. Bebidas Alcólicas"
   ]
  },
  {
   "cell_type": "markdown",
   "metadata": {},
   "source": [
    ">Aplique uma tabela hash para criar o mercadinho"
   ]
  },
  {
   "cell_type": "code",
   "execution_count": 23,
   "metadata": {},
   "outputs": [
    {
     "name": "stdout",
     "output_type": "stream",
     "text": [
      "Alice no País das Maravilhas\n",
      "None\n",
      "None\n"
     ]
    }
   ],
   "source": [
    "class HashTable:\n",
    "    def __init__(self, size=10):\n",
    "        self.size = size\n",
    "        self.table = [[] for _ in range(self.size)]\n",
    "\n",
    "    # Método que calcula o índice da tabela através da chave\n",
    "    def hash(self, key):\n",
    "        return hash(key) % self.size\n",
    "\n",
    "    def insert(self, key, value):\n",
    "        index = self.hash(key)\n",
    "        for y in self.table[index]:\n",
    "            if y[0] == key:\n",
    "                y[1] = value\n",
    "                return\n",
    "        self.table[index].append([key, value])  # Mover para fora do loop\n",
    "\n",
    "    def remove(self, key):\n",
    "        index = self.hash(key)\n",
    "        for i, y in enumerate(self.table[index]):\n",
    "            if y[0] == key:\n",
    "                del self.table[index][i]  # Corrigido para remover a entrada específica\n",
    "                return True\n",
    "        return False  # Deve estar fora do loop\n",
    "\n",
    "    # Método de busca de valor através da chave\n",
    "    def get(self, key):\n",
    "        index = self.hash(key)\n",
    "        for y in self.table[index]:\n",
    "            if y[0] == key:\n",
    "                return y[1]\n",
    "        return None  # Corrigido a indentação\n",
    "\n",
    "if __name__ == \"__main__\":\n",
    "    biblioteca = HashTable()\n",
    "    biblioteca.insert(\"A\", \"Alice no País das Maravilhas\")\n",
    "    biblioteca.insert(\"M\", \"Marcelino Pão e Vinho\")\n",
    "    biblioteca.insert(\"O\", \"O Código Da Vinci\")\n",
    "\n",
    "    print(biblioteca.get(\"A\"))\n",
    "    print(biblioteca.get(\"B\"))\n",
    "\n",
    "    biblioteca.remove(\"A\")\n",
    "    print(biblioteca.get(\"A\"))\n"
   ]
  }
 ],
 "metadata": {
  "kernelspec": {
   "display_name": "Python 3",
   "language": "python",
   "name": "python3"
  },
  "language_info": {
   "codemirror_mode": {
    "name": "ipython",
    "version": 3
   },
   "file_extension": ".py",
   "mimetype": "text/x-python",
   "name": "python",
   "nbconvert_exporter": "python",
   "pygments_lexer": "ipython3",
   "version": "3.12.2"
  }
 },
 "nbformat": 4,
 "nbformat_minor": 2
}
